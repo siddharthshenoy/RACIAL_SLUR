{
  "nbformat": 4,
  "nbformat_minor": 0,
  "metadata": {
    "colab": {
      "name": "RacialSlur.ipynb",
      "provenance": [],
      "mount_file_id": "1Ti3Jb-ndaLlS87qLy6B8R4HTOyLjeD1a",
      "authorship_tag": "ABX9TyNhdzJXN8iEIgKnVHE7s/Ze",
      "include_colab_link": true
    },
    "kernelspec": {
      "name": "python3",
      "display_name": "Python 3"
    },
    "language_info": {
      "name": "python"
    }
  },
  "cells": [
    {
      "cell_type": "markdown",
      "metadata": {
        "id": "view-in-github",
        "colab_type": "text"
      },
      "source": [
        "<a href=\"https://colab.research.google.com/github/siddharthshenoy/RACIAL_SLUR/blob/main/RacialSlur.ipynb\" target=\"_parent\"><img src=\"https://colab.research.google.com/assets/colab-badge.svg\" alt=\"Open In Colab\"/></a>"
      ]
    },
    {
      "cell_type": "code",
      "metadata": {
        "colab": {
          "base_uri": "https://localhost:8080/"
        },
        "id": "OmotNIxIgoyB",
        "outputId": "88cba63f-d7fc-4710-bdc1-7023d96137e0"
      },
      "source": [
        "import re\n",
        "\n",
        "file = open(\"/content/drive/MyDrive/racial slur/list.txt\",\"r\")                      # file with racial slurs taken from \n",
        "racial_slur=file.read().splitlines()                                                #https://github.com/RobertJGabriel/Google-profanity-words.git \n",
        "\n",
        "Tweet = open(\"/content/drive/MyDrive/racial slur/Tweet.txt\",\"r\")                    # file with the tweets taken from \n",
        "                                                                                    #https://raw.githubusercontent.com/t-davidson/hate-speech-and-offensive-language/master/data/labeled_data.csv\n",
        "\n",
        "def profanity_limit():                                                              #function who's main goal is to print the level of profanity\n",
        "  print(\"Profaniry score : \",racial_count)                                                                    \n",
        "  if racial_count==0:                                                                                    \n",
        "    print(\"No Profanity Found \\n\")       \n",
        "  elif racial_count==1:\n",
        "    print(\"Low Profanity Found \\n\")\n",
        "  elif racial_count==2:\n",
        "    print(\"Medium Profanity Found \\n\")\n",
        "  elif racial_count>=3:\n",
        "    print(\"HIGH PROFANITY FOUND \\n\")\n",
        "\n",
        "while True:                                                                          # for reading every file in the Tweets.txt #  \n",
        "  racial_count=0\n",
        "     \n",
        "  line=Tweet.readline()\n",
        "  if not line:\n",
        "    break\n",
        "  currentLine=\"Tweet :\\n{}\".format(line.strip())\n",
        "    \n",
        "  print(currentLine)\n",
        "  currentLine = currentLine.lower()\n",
        "  currentLine = re.sub(r'[^\\w\\s]',\"\",currentLine)                                  # this does pre processing basically removing punctuation and coverting to lower case\n",
        "  #line_1 = re.sub('\\d',\"\",currentLine)                                            # removed this cause racial slurs can be made through numbers too\n",
        "\n",
        "  for j in racial_slur:                                                            #to calculate the number of racial slurs used by comparing the same words in list.txt and ever tweet\n",
        "    if j in currentLine:\n",
        "      racial_count = racial_count+1\n",
        "      \n",
        "  profanity_limit()                                                                #calling the profanity_limit function\n",
        "\n",
        "\n",
        "file.close()\n",
        "Tweet.close()\n",
        "\n",
        "    \n"
      ],
      "execution_count": null,
      "outputs": [
        {
          "output_type": "stream",
          "text": [
            "Tweet :\n",
            "\"niggers every where now a days\"\n",
            "Profaniry score :  2\n",
            "Medium Profanity Found \n",
            "\n",
            "Tweet :\n",
            "\"Yall bitches wit no edges be doing the most talking\"\n",
            "Profaniry score :  2\n",
            "Medium Profanity Found \n",
            "\n",
            "Tweet :\n",
            "\"This new twitter is confusing the shit out of me.\"\n",
            "Profaniry score :  1\n",
            "Low Profanity Found \n",
            "\n",
            "Tweet :\n",
            "\"Happy Bday Bitch Ass Nigga\"\n",
            "Profaniry score :  3\n",
            "HIGH PROFANITY FOUND \n",
            "\n",
            "Tweet :\n",
            "\"White boy power bitch\"\n",
            "Profaniry score :  1\n",
            "Low Profanity Found \n",
            "\n",
            "Tweet :\n",
            "\"Man these pakis need to leave the gym it's starting to smell like Burger King in here\"\n",
            "Profaniry score :  0\n",
            "No Profanity Found \n",
            "\n",
            "Tweet :\n",
            "\"I'm an early bird and I'm a night owl, so I'm wise and have worms\"\n",
            "Profaniry score :  0\n",
            "No Profanity Found \n",
            "\n"
          ],
          "name": "stdout"
        }
      ]
    },
    {
      "cell_type": "code",
      "metadata": {
        "id": "-X5XzRiLhdma"
      },
      "source": [
        ""
      ],
      "execution_count": null,
      "outputs": []
    }
  ]
}